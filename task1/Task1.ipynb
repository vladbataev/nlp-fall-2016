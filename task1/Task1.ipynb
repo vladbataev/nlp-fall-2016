{
 "cells": [
  {
   "cell_type": "code",
   "execution_count": 75,
   "metadata": {
    "collapsed": false
   },
   "outputs": [
    {
     "name": "stderr",
     "output_type": "stream",
     "text": [
      "/home/vlad/t_env/lib/python3.5/site-packages/sklearn/grid_search.py:43: DeprecationWarning: This module was deprecated in version 0.18 in favor of the model_selection module into which all the refactored classes and functions are moved. This module will be removed in 0.20.\n",
      "  DeprecationWarning)\n"
     ]
    }
   ],
   "source": [
    "from sklearn.feature_extraction.text import CountVectorizer, TfidfVectorizer\n",
    "from sklearn.linear_model import LogisticRegression\n",
    "from sklearn.cross_validation import cross_val_score\n",
    "from sklearn.naive_bayes import MultinomialNB\n",
    "import pandas as pd\n",
    "from matplotlib import pyplot as plt\n",
    "from sklearn.pipeline import make_pipeline, Pipeline\n",
    "from sklearn.grid_search import GridSearchCV\n",
    "%matplotlib inline"
   ]
  },
  {
   "cell_type": "code",
   "execution_count": 6,
   "metadata": {
    "collapsed": true
   },
   "outputs": [],
   "source": [
    "labels = []\n",
    "texts = []\n",
    "with open('./SMSSpamCollection.txt') as in_file:\n",
    "    for line in in_file:\n",
    "        temp = line.split()\n",
    "        if temp[0] == 'ham':\n",
    "            labels.append(0)\n",
    "        else:\n",
    "            labels.append(1)\n",
    "        texts.append(' '.join(temp[1:]))"
   ]
  },
  {
   "cell_type": "markdown",
   "metadata": {},
   "source": [
    "Глянем на распределение по классам"
   ]
  },
  {
   "cell_type": "code",
   "execution_count": 74,
   "metadata": {
    "collapsed": false
   },
   "outputs": [
    {
     "data": {
      "image/png": "[encoded data removed]",
      "text/plain": [
       "<matplotlib.figure.Figure at 0x7f64402729b0>"
      ]
     },
     "metadata": {},
     "output_type": "display_data"
    }
   ],
   "source": [
    "data = pd.read_table('./SMSSpamCollection.txt', delimiter='\\t', names=['class', 'text'])\n",
    "plt.hist(data.values[:, 0] == 'spam')\n",
    "plt.show()"
   ]
  },
  {
   "cell_type": "markdown",
   "metadata": {},
   "source": [
    "Видим, что классы очень не сбалансированы."
   ]
  },
  {
   "cell_type": "code",
   "execution_count": 27,
   "metadata": {
    "collapsed": false
   },
   "outputs": [
    {
     "data": {
      "text/plain": [
       "<5574x8713 sparse matrix of type '<class 'numpy.int64'>'\n",
       "\twith 74169 stored elements in Compressed Sparse Row format>"
      ]
     },
     "execution_count": 27,
     "metadata": {},
     "output_type": "execute_result"
    }
   ],
   "source": [
    "vectorizer = CountVectorizer()\n",
    "X = vectorizer.fit_transform(texts)\n",
    "X"
   ]
  },
  {
   "cell_type": "code",
   "execution_count": 56,
   "metadata": {
    "collapsed": true
   },
   "outputs": [],
   "source": [
    "def evaluate(model, texts, vectorize_class, labels, n_gram_range):\n",
    "    vectorizer = vectorize_class(ngram_range=n_gram_range)\n",
    "    X = vectorizer.fit_transform(texts)\n",
    "    return (sum(cross_val_score(model, X, labels, cv=10, n_jobs=-1, scoring='f1')) / 10)"
   ]
  },
  {
   "cell_type": "code",
   "execution_count": 58,
   "metadata": {
    "collapsed": false
   },
   "outputs": [
    {
     "name": "stdout",
     "output_type": "stream",
     "text": [
      "0.933348526858\n"
     ]
    }
   ],
   "source": [
    "model = LogisticRegression()\n",
    "print(evaluate(model, texts, CountVectorizer, labels, n_gram_range=(1, 1)))"
   ]
  },
  {
   "cell_type": "code",
   "execution_count": 14,
   "metadata": {
    "collapsed": false
   },
   "outputs": [
    {
     "data": {
      "text/plain": [
       "LogisticRegression(C=1.0, class_weight=None, dual=False, fit_intercept=True,\n",
       "          intercept_scaling=1, max_iter=100, multi_class='ovr', n_jobs=1,\n",
       "          penalty='l2', random_state=None, solver='liblinear', tol=0.0001,\n",
       "          verbose=0, warm_start=False)"
      ]
     },
     "execution_count": 14,
     "metadata": {},
     "output_type": "execute_result"
    }
   ],
   "source": [
    "model.fit(X, labels)"
   ]
  },
  {
   "cell_type": "code",
   "execution_count": 15,
   "metadata": {
    "collapsed": true
   },
   "outputs": [],
   "source": [
    "messages = [\"FreeMsg: Txt: CALL to No: 86888 & claim your reward of 3 hours talk time to use from your phone now! Subscribe6GB\", \n",
    "            \"FreeMsg: Txt: claim your reward of 3 hours talk time\",\n",
    "            \"Have you visited the last lecture on physics?\",\n",
    "            \"Have you visited the last lecture on physics? Just buy this book and you will have all materials! Only 99$\",\n",
    "            \"Only 99$\"\n",
    "            ]"
   ]
  },
  {
   "cell_type": "code",
   "execution_count": 26,
   "metadata": {
    "collapsed": false
   },
   "outputs": [
    {
     "name": "stdout",
     "output_type": "stream",
     "text": [
      "[1 1 0 0 0]\n"
     ]
    }
   ],
   "source": [
    "print(model.predict(vectorizer.transform(messages)))"
   ]
  },
  {
   "cell_type": "code",
   "execution_count": 52,
   "metadata": {
    "collapsed": false
   },
   "outputs": [],
   "source": [
    "params = [(1, 1), (2, 2), (3, 3), (1, 3)]"
   ]
  },
  {
   "cell_type": "code",
   "execution_count": 63,
   "metadata": {
    "collapsed": false
   },
   "outputs": [
    {
     "name": "stdout",
     "output_type": "stream",
     "text": [
      "(1, 1): 0.93\n",
      "(2, 2): 0.82\n",
      "(3, 3): 0.73\n",
      "(1, 3): 0.93\n"
     ]
    }
   ],
   "source": [
    "model = LogisticRegression()\n",
    "for n_gram_range in params:\n",
    "    print('{}: {:.2f}'.format(n_gram_range, evaluate(model, texts, CountVectorizer, labels, n_gram_range)))"
   ]
  },
  {
   "cell_type": "code",
   "execution_count": 64,
   "metadata": {
    "collapsed": false
   },
   "outputs": [
    {
     "name": "stdout",
     "output_type": "stream",
     "text": [
      "(1, 1): 0.93\n",
      "(2, 2): 0.65\n",
      "(3, 3): 0.38\n",
      "(1, 3): 0.89\n"
     ]
    }
   ],
   "source": [
    "model = MultinomialNB()\n",
    "for n_gram_range in params:\n",
    "    print('{}: {:.2f}'.format(n_gram_range, evaluate(model, texts, CountVectorizer, labels, n_gram_range)))"
   ]
  },
  {
   "cell_type": "markdown",
   "metadata": {},
   "source": [
    "Качество по понятной причине снижается из-за того, что статистика по биграммам и триграммам довольно плохая, почти все встречаются очень малое число раз."
   ]
  },
  {
   "cell_type": "code",
   "execution_count": 65,
   "metadata": {
    "collapsed": false
   },
   "outputs": [
    {
     "name": "stdout",
     "output_type": "stream",
     "text": [
      "(1, 1): 0.85\n",
      "(2, 2): 0.34\n",
      "(3, 3): 0.17\n",
      "(1, 3): 0.65\n"
     ]
    }
   ],
   "source": [
    "model = LogisticRegression()\n",
    "for n_gram_range in params:\n",
    "    print('{}: {:.2f}'.format(n_gram_range, evaluate(model, texts, TfidfVectorizer, labels, n_gram_range)))"
   ]
  },
  {
   "cell_type": "markdown",
   "metadata": {},
   "source": [
    "Качество понизилось при использовании tf-idf. Наверно на коротких документах tf-idf работает не очень."
   ]
  },
  {
   "cell_type": "markdown",
   "metadata": {},
   "source": [
    "Попробуем подобрать параметры."
   ]
  },
  {
   "cell_type": "code",
   "execution_count": 81,
   "metadata": {
    "collapsed": false
   },
   "outputs": [
    {
     "name": "stdout",
     "output_type": "stream",
     "text": [
      "{'regr__max_iter': 100, 'vec__stop_words': None, 'vec__binary': True, 'vec__max_features': None, 'regr__dual': True, 'regr__C': 3.0}\n"
     ]
    },
    {
     "data": {
      "text/plain": [
       "0.9418422538286744"
      ]
     },
     "execution_count": 81,
     "metadata": {},
     "output_type": "execute_result"
    }
   ],
   "source": [
    "params = {\"regr__max_iter\": [100, 200],\n",
    "          \"regr__dual\": [True, False],\n",
    "          \"regr__C\": [3.0, 1.0, 0.5, 0.1],\n",
    "          \"vec__stop_words\": [None, \"english\"],\n",
    "          \"vec__binary\": [True, False],\n",
    "          \"vec__max_features\": [None, 3000]}\n",
    "pipeline = Pipeline(steps = [('vec', CountVectorizer()), ('regr', LogisticRegression())])\n",
    "gs = GridSearchCV(pipeline, params, cv=10, scoring='f1', n_jobs=-1)\n",
    "gs.fit(texts, labels)\n",
    "print(gs.best_params_)\n",
    "gs.best_score_"
   ]
  },
  {
   "cell_type": "code",
   "execution_count": null,
   "metadata": {
    "collapsed": true
   },
   "outputs": [],
   "source": []
  }
 ],
 "metadata": {
  "kernelspec": {
   "display_name": "Python 3",
   "language": "python",
   "name": "python3"
  },
  "language_info": {
   "codemirror_mode": {
    "name": "ipython",
    "version": 3
   },
   "file_extension": ".py",
   "mimetype": "text/x-python",
   "name": "python",
   "nbconvert_exporter": "python",
   "pygments_lexer": "ipython3",
   "version": "3.5.2"
  },
  "widgets": {
   "state": {},
   "version": "1.1.1"
  }
 },
 "nbformat": 4,
 "nbformat_minor": 1
}
